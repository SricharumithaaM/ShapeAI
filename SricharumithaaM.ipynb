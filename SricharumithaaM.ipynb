{
  "nbformat": 4,
  "nbformat_minor": 0,
  "metadata": {
    "colab": {
      "name": "SricharumithaaM.ipynb",
      "provenance": []
    },
    "kernelspec": {
      "name": "python3",
      "display_name": "Python 3"
    },
    "language_info": {
      "name": "python"
    }
  },
  "cells": [
    {
      "cell_type": "code",
      "metadata": {
        "id": "AWvJIGQndBmB"
      },
      "source": [
        "import requests"
      ],
      "execution_count": 1,
      "outputs": []
    },
    {
      "cell_type": "code",
      "metadata": {
        "id": "mMQJHJWkdMux"
      },
      "source": [
        " from datetime import datetime"
      ],
      "execution_count": 2,
      "outputs": []
    },
    {
      "cell_type": "code",
      "metadata": {
        "id": "rRZZ9TW3dbIk"
      },
      "source": [
        "api_key ='572d7e0c2c1223bb62ebf7cbe3664edd'"
      ],
      "execution_count": 3,
      "outputs": []
    },
    {
      "cell_type": "code",
      "metadata": {
        "colab": {
          "base_uri": "https://localhost:8080/"
        },
        "id": "rY5NRGPgd3C2",
        "outputId": "4c657b12-caa3-4d99-9a07-d52afc410a2f"
      },
      "source": [
        "location = input(\"Enter the city name:\")"
      ],
      "execution_count": 4,
      "outputs": [
        {
          "output_type": "stream",
          "text": [
            "Enter the city name:salem\n"
          ],
          "name": "stdout"
        }
      ]
    },
    {
      "cell_type": "code",
      "metadata": {
        "id": "F_BYuCrkeAHa"
      },
      "source": [
        " Complete_api_link =\"https://api.openweathermap.org/data/2.5/weather?q=\"+location+\"&appid=\"+api_key"
      ],
      "execution_count": 5,
      "outputs": []
    },
    {
      "cell_type": "code",
      "metadata": {
        "id": "48SgSy_shoBd"
      },
      "source": [
        "api_link=requests.get(Complete_api_link)"
      ],
      "execution_count": 6,
      "outputs": []
    },
    {
      "cell_type": "code",
      "metadata": {
        "id": "Usjl-Pnphr3k"
      },
      "source": [
        " api_data=api_link.json()"
      ],
      "execution_count": 7,
      "outputs": []
    },
    {
      "cell_type": "code",
      "metadata": {
        "id": "SYxjJ_WUh0Eb"
      },
      "source": [
        " temp_city=((api_data['main']['temp'])-273.15)"
      ],
      "execution_count": 8,
      "outputs": []
    },
    {
      "cell_type": "code",
      "metadata": {
        "id": "BUIkk_c8h6p-"
      },
      "source": [
        " weather_desc=api_data['weather'][0]['description']"
      ],
      "execution_count": 9,
      "outputs": []
    },
    {
      "cell_type": "code",
      "metadata": {
        "id": "BWO0n93giBTm"
      },
      "source": [
        " hmdt=api_data['main']['humidity']"
      ],
      "execution_count": 10,
      "outputs": []
    },
    {
      "cell_type": "code",
      "metadata": {
        "id": "7pujKHsJiG9l"
      },
      "source": [
        "wind_spd=api_data['wind']['speed']"
      ],
      "execution_count": 11,
      "outputs": []
    },
    {
      "cell_type": "code",
      "metadata": {
        "id": "jQiAs82SiM-6"
      },
      "source": [
        "date_time=datetime.now().strftime(\"%d %b %Y|%I:%M:%S %P\")"
      ],
      "execution_count": 12,
      "outputs": []
    },
    {
      "cell_type": "code",
      "metadata": {
        "colab": {
          "base_uri": "https://localhost:8080/"
        },
        "id": "SSsriO3NiVDs",
        "outputId": "daeb18ec-e9e8-4211-84b8-faea2badedca"
      },
      "source": [
        "print(\"-----------------------------------------\")"
      ],
      "execution_count": 13,
      "outputs": [
        {
          "output_type": "stream",
          "text": [
            "-----------------------------------------\n"
          ],
          "name": "stdout"
        }
      ]
    },
    {
      "cell_type": "code",
      "metadata": {
        "colab": {
          "base_uri": "https://localhost:8080/"
        },
        "id": "ztuU20nyif9x",
        "outputId": "a9bc560d-3150-4810-94a9-a96a9a2de1e1"
      },
      "source": [
        "print(\"weather stats for - {} || {}\".format(location.upper(), date_time))"
      ],
      "execution_count": 14,
      "outputs": [
        {
          "output_type": "stream",
          "text": [
            "weather stats for - SALEM || 22 Jun 2021|11:44:41 am\n"
          ],
          "name": "stdout"
        }
      ]
    },
    {
      "cell_type": "code",
      "metadata": {
        "colab": {
          "base_uri": "https://localhost:8080/"
        },
        "id": "niSuQ1WwipWh",
        "outputId": "9ce16bf2-6891-4521-fa8d-ee0a2022bc90"
      },
      "source": [
        " print(\"--------------------------------------------\")"
      ],
      "execution_count": 15,
      "outputs": [
        {
          "output_type": "stream",
          "text": [
            "--------------------------------------------\n"
          ],
          "name": "stdout"
        }
      ]
    },
    {
      "cell_type": "code",
      "metadata": {
        "colab": {
          "base_uri": "https://localhost:8080/"
        },
        "id": "33uILOLcizKq",
        "outputId": "c76f033b-f151-4a6e-8a44-d5e9796e1d6c"
      },
      "source": [
        "print (\"Current temperature is: {:.2f}deg C\".format(temp_city))"
      ],
      "execution_count": 16,
      "outputs": [
        {
          "output_type": "stream",
          "text": [
            "Current temperature is: 34.65deg C\n"
          ],
          "name": "stdout"
        }
      ]
    },
    {
      "cell_type": "code",
      "metadata": {
        "colab": {
          "base_uri": "https://localhost:8080/"
        },
        "id": "Z799BVewjVEz",
        "outputId": "b9af9ffa-26f8-4908-93c7-b60eccc54818"
      },
      "source": [
        "print (\"Current Humidity :\", hmdt, '%')"
      ],
      "execution_count": 18,
      "outputs": [
        {
          "output_type": "stream",
          "text": [
            "Current Humidity : 32 %\n"
          ],
          "name": "stdout"
        }
      ]
    },
    {
      "cell_type": "code",
      "metadata": {
        "colab": {
          "base_uri": "https://localhost:8080/"
        },
        "id": "dxJHZC5IjXUW",
        "outputId": "6bd2aab0-9544-4535-bebc-ea0728524c19"
      },
      "source": [
        " print (\"Current wind speed:\", wind_spd, 'kmph')"
      ],
      "execution_count": 19,
      "outputs": [
        {
          "output_type": "stream",
          "text": [
            "Current wind speed: 2.3 kmph\n"
          ],
          "name": "stdout"
        }
      ]
    }
  ]
}